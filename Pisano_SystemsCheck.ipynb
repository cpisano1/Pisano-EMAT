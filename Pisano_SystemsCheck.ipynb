{
 "cells": [
  {
   "cell_type": "markdown",
   "id": "ac10e631-8f38-44ef-9cbd-ab33f41c7f57",
   "metadata": {},
   "source": [
    "# **Systems Test**\n",
    "## Cecilia Pisano\n",
    "### 8/20/2025"
   ]
  },
  {
   "cell_type": "markdown",
   "id": "34e1389c-dfb0-41e1-9fc1-5f36a6388b45",
   "metadata": {},
   "source": [
    "*What do I hope to get out of this class?*\n",
    "* I'd really like to understand python more than my prior knowledge in high school and understand how I can use it for the future in projects and job searches, to up my resume more."
   ]
  },
  {
   "attachments": {},
   "cell_type": "markdown",
   "id": "431aff87-2eec-4d83-9aec-c91309c6cf4f",
   "metadata": {},
   "source": [
    "*What is my favorite animal?*\n",
    "1. **Red Pandas!**\n",
    "2. **Deers!**\n",
    "\n",
    "![redpandas](https://www.akronzoo.org/sites/default/files/styles/square_large/public/assets/animals/Red-panda-main.png?h=00546c34&itok=xxHa5juf))\n",
    "\n",
    "*Image is from Akron Zoo*"
   ]
  },
  {
   "cell_type": "code",
   "execution_count": null,
   "id": "fe8ac110-3203-46e9-878f-0edb8d3b67a9",
   "metadata": {},
   "outputs": [],
   "source": [
    "animal = input(\"What's your favorite animal?: \")\n",
    "print(\"I also like\", animal)"
   ]
  },
  {
   "cell_type": "code",
   "execution_count": 6,
   "id": "a8059ed7-6e1a-4989-b999-ddef799246b6",
   "metadata": {},
   "outputs": [
    {
     "name": "stdout",
     "output_type": "stream",
     "text": [
      "10\n"
     ]
    }
   ],
   "source": [
    "D = 10\n",
    "print(D)"
   ]
  },
  {
   "cell_type": "code",
   "execution_count": null,
   "id": "d9d2b530-b556-4381-a7b5-be1f50400325",
   "metadata": {},
   "outputs": [],
   "source": []
  }
 ],
 "metadata": {
  "kernelspec": {
   "display_name": "Python 3 (ipykernel)",
   "language": "python",
   "name": "python3"
  },
  "language_info": {
   "codemirror_mode": {
    "name": "ipython",
    "version": 3
   },
   "file_extension": ".py",
   "mimetype": "text/x-python",
   "name": "python",
   "nbconvert_exporter": "python",
   "pygments_lexer": "ipython3",
   "version": "3.12.11"
  }
 },
 "nbformat": 4,
 "nbformat_minor": 5
}
