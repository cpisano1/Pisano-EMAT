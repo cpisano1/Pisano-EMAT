{
 "cells": [
  {
   "cell_type": "markdown",
   "id": "e0308933-92ce-4651-8af1-aabbefb7774b",
   "metadata": {},
   "source": [
    "#  Instagram Likes Report\n",
    "## Cecilia Pisano\n",
    "### 9/10/25"
   ]
  },
  {
   "cell_type": "markdown",
   "id": "ec467bc4-8548-46fe-8b3b-df0ace5e41ab",
   "metadata": {},
   "source": [
    "#### Instagram created my data based on my activity of what posts i've liked, I created the data but instagram was the source of me getting my data (liking posts)"
   ]
  },
  {
   "cell_type": "markdown",
   "id": "7d0c73d5-074a-4fa2-9960-9677ceb700af",
   "metadata": {},
   "source": [
    "###  This data was created to understand an alorgirthm in posts i've liked\n",
    "Purposes this data can serve are to understand what types of posts I like more than the other posts i've liked (general idea of posts)"
   ]
  },
  {
   "cell_type": "markdown",
   "id": "615548a9-e961-4c94-83bb-68b8a0cdc747",
   "metadata": {},
   "source": [
    "in what ways may this data be reliable?\n",
    "In what ways may this data be unreliable?"
   ]
  },
  {
   "cell_type": "markdown",
   "id": "d3a11d27-b533-4ef6-880d-3703546821a5",
   "metadata": {},
   "source": [
    "##  section 1\n",
    "## these are the import functions"
   ]
  },
  {
   "cell_type": "code",
   "execution_count": 1,
   "id": "5fc46d9e-61d5-4a42-bbd0-2fdbfb6137e9",
   "metadata": {},
   "outputs": [],
   "source": [
    "import json\n",
    "import pandas as pd\n",
    "import matplotlib as plt"
   ]
  },
  {
   "cell_type": "markdown",
   "id": "abec373a-e633-4fa0-8eea-b233b92da3d8",
   "metadata": {},
   "source": [
    "## section 2\n",
    "## these are loading functions for the likes"
   ]
  },
  {
   "cell_type": "code",
   "execution_count": 2,
   "id": "26c6c58f-0caf-4ee4-a809-9f191617c123",
   "metadata": {},
   "outputs": [],
   "source": [
    "path = r\"/Users/ceciliapisano/Downloads/instagram-cece.pisano-2025-08-25-UMGrkIl3/your_instagram_activity/likes/liked_posts.json\"\n",
    "with open(path) as l:\n",
    "    dict = json.load(l)"
   ]
  },
  {
   "cell_type": "markdown",
   "id": "a5bc9e6e-e5fb-4a77-83bb-920771a246f2",
   "metadata": {},
   "source": [
    "## section 3\n",
    "## covert data into data frame object and assign it to a new variable using pandas dataframe function"
   ]
  },
  {
   "cell_type": "code",
   "execution_count": 3,
   "id": "4abb06e4-c2e9-45c4-b55e-64102782797a",
   "metadata": {},
   "outputs": [
    {
     "data": {
      "text/html": [
       "<div>\n",
       "<style scoped>\n",
       "    .dataframe tbody tr th:only-of-type {\n",
       "        vertical-align: middle;\n",
       "    }\n",
       "\n",
       "    .dataframe tbody tr th {\n",
       "        vertical-align: top;\n",
       "    }\n",
       "\n",
       "    .dataframe thead th {\n",
       "        text-align: right;\n",
       "    }\n",
       "</style>\n",
       "<table border=\"1\" class=\"dataframe\">\n",
       "  <thead>\n",
       "    <tr style=\"text-align: right;\">\n",
       "      <th></th>\n",
       "      <th>likes_media_likes</th>\n",
       "    </tr>\n",
       "  </thead>\n",
       "  <tbody>\n",
       "    <tr>\n",
       "      <th>0</th>\n",
       "      <td>{'title': 'ksuphimu', 'string_list_data': [{'h...</td>\n",
       "    </tr>\n",
       "    <tr>\n",
       "      <th>1</th>\n",
       "      <td>{'title': 'ellas.photo.diary', 'string_list_da...</td>\n",
       "    </tr>\n",
       "    <tr>\n",
       "      <th>2</th>\n",
       "      <td>{'title': 'rach_czap', 'string_list_data': [{'...</td>\n",
       "    </tr>\n",
       "    <tr>\n",
       "      <th>3</th>\n",
       "      <td>{'title': 'maddietakesflixs', 'string_list_dat...</td>\n",
       "    </tr>\n",
       "    <tr>\n",
       "      <th>4</th>\n",
       "      <td>{'title': 'ellabellesstyle', 'string_list_data...</td>\n",
       "    </tr>\n",
       "  </tbody>\n",
       "</table>\n",
       "</div>"
      ],
      "text/plain": [
       "                                   likes_media_likes\n",
       "0  {'title': 'ksuphimu', 'string_list_data': [{'h...\n",
       "1  {'title': 'ellas.photo.diary', 'string_list_da...\n",
       "2  {'title': 'rach_czap', 'string_list_data': [{'...\n",
       "3  {'title': 'maddietakesflixs', 'string_list_dat...\n",
       "4  {'title': 'ellabellesstyle', 'string_list_data..."
      ]
     },
     "execution_count": 3,
     "metadata": {},
     "output_type": "execute_result"
    }
   ],
   "source": [
    "df = pd.DataFrame(dict)\n",
    "df.head()"
   ]
  },
  {
   "cell_type": "code",
   "execution_count": 4,
   "id": "0571acc5-4c63-475c-ac33-c9429607b02d",
   "metadata": {},
   "outputs": [
    {
     "data": {
      "text/plain": [
       "dict_keys(['likes_media_likes'])"
      ]
     },
     "execution_count": 4,
     "metadata": {},
     "output_type": "execute_result"
    }
   ],
   "source": [
    "dict.keys()"
   ]
  },
  {
   "cell_type": "code",
   "execution_count": 5,
   "id": "2799d371-c562-40a0-b82e-fd02c8fff117",
   "metadata": {},
   "outputs": [
    {
     "data": {
      "text/html": [
       "<div>\n",
       "<style scoped>\n",
       "    .dataframe tbody tr th:only-of-type {\n",
       "        vertical-align: middle;\n",
       "    }\n",
       "\n",
       "    .dataframe tbody tr th {\n",
       "        vertical-align: top;\n",
       "    }\n",
       "\n",
       "    .dataframe thead th {\n",
       "        text-align: right;\n",
       "    }\n",
       "</style>\n",
       "<table border=\"1\" class=\"dataframe\">\n",
       "  <thead>\n",
       "    <tr style=\"text-align: right;\">\n",
       "      <th></th>\n",
       "      <th>title</th>\n",
       "      <th>string_list_data</th>\n",
       "    </tr>\n",
       "  </thead>\n",
       "  <tbody>\n",
       "    <tr>\n",
       "      <th>0</th>\n",
       "      <td>ksuphimu</td>\n",
       "      <td>[{'href': 'https://www.instagram.com/p/DNyQ6sQ...</td>\n",
       "    </tr>\n",
       "    <tr>\n",
       "      <th>1</th>\n",
       "      <td>ellas.photo.diary</td>\n",
       "      <td>[{'href': 'https://www.instagram.com/p/DNwGO08...</td>\n",
       "    </tr>\n",
       "    <tr>\n",
       "      <th>2</th>\n",
       "      <td>rach_czap</td>\n",
       "      <td>[{'href': 'https://www.instagram.com/p/DNtDzHY...</td>\n",
       "    </tr>\n",
       "    <tr>\n",
       "      <th>3</th>\n",
       "      <td>maddietakesflixs</td>\n",
       "      <td>[{'href': 'https://www.instagram.com/p/DNs7qUq...</td>\n",
       "    </tr>\n",
       "    <tr>\n",
       "      <th>4</th>\n",
       "      <td>ellabellesstyle</td>\n",
       "      <td>[{'href': 'https://www.instagram.com/p/DNqbDJc...</td>\n",
       "    </tr>\n",
       "  </tbody>\n",
       "</table>\n",
       "</div>"
      ],
      "text/plain": [
       "               title                                   string_list_data\n",
       "0           ksuphimu  [{'href': 'https://www.instagram.com/p/DNyQ6sQ...\n",
       "1  ellas.photo.diary  [{'href': 'https://www.instagram.com/p/DNwGO08...\n",
       "2          rach_czap  [{'href': 'https://www.instagram.com/p/DNtDzHY...\n",
       "3   maddietakesflixs  [{'href': 'https://www.instagram.com/p/DNs7qUq...\n",
       "4    ellabellesstyle  [{'href': 'https://www.instagram.com/p/DNqbDJc..."
      ]
     },
     "execution_count": 5,
     "metadata": {},
     "output_type": "execute_result"
    }
   ],
   "source": [
    "df_tidy = pd.DataFrame(dict['likes_media_likes'])\n",
    "df_tidy.head()"
   ]
  },
  {
   "cell_type": "markdown",
   "id": "8d57cba3-1681-46f7-b50b-2f03453df445",
   "metadata": {},
   "source": [
    "## section 4"
   ]
  },
  {
   "cell_type": "code",
   "execution_count": 6,
   "id": "8cb7c340-6438-4495-9cd7-c2684eb73ada",
   "metadata": {},
   "outputs": [
    {
     "data": {
      "text/plain": [
       "[{'href': 'https://www.instagram.com/p/DNyQ6sQ4hN-/',\n",
       "  'value': 'ð\\x9f\\x91\\x8d',\n",
       "  'timestamp': 1756144103}]"
      ]
     },
     "execution_count": 6,
     "metadata": {},
     "output_type": "execute_result"
    }
   ],
   "source": [
    "df_tidy['string_list_data'].iloc[0]"
   ]
  },
  {
   "cell_type": "code",
   "execution_count": 7,
   "id": "5d4b09ce-f0b6-4f7c-85ae-353d8589bb15",
   "metadata": {},
   "outputs": [
    {
     "data": {
      "text/plain": [
       "list"
      ]
     },
     "execution_count": 7,
     "metadata": {},
     "output_type": "execute_result"
    }
   ],
   "source": [
    "type (df_tidy['string_list_data'].iloc[0])"
   ]
  },
  {
   "cell_type": "code",
   "execution_count": 8,
   "id": "c4885b05-2308-4aaa-96a4-5102d783440c",
   "metadata": {},
   "outputs": [
    {
     "data": {
      "text/plain": [
       "1"
      ]
     },
     "execution_count": 8,
     "metadata": {},
     "output_type": "execute_result"
    }
   ],
   "source": [
    "len(df_tidy['string_list_data'].iloc[0])"
   ]
  },
  {
   "cell_type": "code",
   "execution_count": 9,
   "id": "f548a094-d5e4-4574-ab02-8eacc137be9e",
   "metadata": {},
   "outputs": [
    {
     "data": {
      "text/plain": [
       "{'href': 'https://www.instagram.com/p/DNyQ6sQ4hN-/',\n",
       " 'value': 'ð\\x9f\\x91\\x8d',\n",
       " 'timestamp': 1756144103}"
      ]
     },
     "execution_count": 9,
     "metadata": {},
     "output_type": "execute_result"
    }
   ],
   "source": [
    "df_tidy['string_list_data'].iloc[0][0]"
   ]
  },
  {
   "cell_type": "code",
   "execution_count": 10,
   "id": "a445a1e4-11b5-4cfe-a040-51048ae54eda",
   "metadata": {},
   "outputs": [
    {
     "data": {
      "text/plain": [
       "1756144103"
      ]
     },
     "execution_count": 10,
     "metadata": {},
     "output_type": "execute_result"
    }
   ],
   "source": [
    "df_tidy['string_list_data'].iloc[0][0]['timestamp']"
   ]
  },
  {
   "cell_type": "code",
   "execution_count": 11,
   "id": "d07ffd90-c405-423d-a20b-950dd1cbd41c",
   "metadata": {},
   "outputs": [
    {
     "data": {
      "text/html": [
       "<div>\n",
       "<style scoped>\n",
       "    .dataframe tbody tr th:only-of-type {\n",
       "        vertical-align: middle;\n",
       "    }\n",
       "\n",
       "    .dataframe tbody tr th {\n",
       "        vertical-align: top;\n",
       "    }\n",
       "\n",
       "    .dataframe thead th {\n",
       "        text-align: right;\n",
       "    }\n",
       "</style>\n",
       "<table border=\"1\" class=\"dataframe\">\n",
       "  <thead>\n",
       "    <tr style=\"text-align: right;\">\n",
       "      <th></th>\n",
       "      <th>title</th>\n",
       "      <th>string_list_data</th>\n",
       "      <th>Time of Like</th>\n",
       "    </tr>\n",
       "  </thead>\n",
       "  <tbody>\n",
       "    <tr>\n",
       "      <th>0</th>\n",
       "      <td>ksuphimu</td>\n",
       "      <td>[{'href': 'https://www.instagram.com/p/DNyQ6sQ...</td>\n",
       "      <td>1756144103</td>\n",
       "    </tr>\n",
       "    <tr>\n",
       "      <th>1</th>\n",
       "      <td>ellas.photo.diary</td>\n",
       "      <td>[{'href': 'https://www.instagram.com/p/DNwGO08...</td>\n",
       "      <td>1756070934</td>\n",
       "    </tr>\n",
       "    <tr>\n",
       "      <th>2</th>\n",
       "      <td>rach_czap</td>\n",
       "      <td>[{'href': 'https://www.instagram.com/p/DNtDzHY...</td>\n",
       "      <td>1755967367</td>\n",
       "    </tr>\n",
       "    <tr>\n",
       "      <th>3</th>\n",
       "      <td>maddietakesflixs</td>\n",
       "      <td>[{'href': 'https://www.instagram.com/p/DNs7qUq...</td>\n",
       "      <td>1755965810</td>\n",
       "    </tr>\n",
       "    <tr>\n",
       "      <th>4</th>\n",
       "      <td>ellabellesstyle</td>\n",
       "      <td>[{'href': 'https://www.instagram.com/p/DNqbDJc...</td>\n",
       "      <td>1755897259</td>\n",
       "    </tr>\n",
       "  </tbody>\n",
       "</table>\n",
       "</div>"
      ],
      "text/plain": [
       "               title                                   string_list_data  \\\n",
       "0           ksuphimu  [{'href': 'https://www.instagram.com/p/DNyQ6sQ...   \n",
       "1  ellas.photo.diary  [{'href': 'https://www.instagram.com/p/DNwGO08...   \n",
       "2          rach_czap  [{'href': 'https://www.instagram.com/p/DNtDzHY...   \n",
       "3   maddietakesflixs  [{'href': 'https://www.instagram.com/p/DNs7qUq...   \n",
       "4    ellabellesstyle  [{'href': 'https://www.instagram.com/p/DNqbDJc...   \n",
       "\n",
       "   Time of Like  \n",
       "0    1756144103  \n",
       "1    1756070934  \n",
       "2    1755967367  \n",
       "3    1755965810  \n",
       "4    1755897259  "
      ]
     },
     "execution_count": 11,
     "metadata": {},
     "output_type": "execute_result"
    }
   ],
   "source": [
    "df_tidy['Time of Like'] = [ i[0]['timestamp'] for i in df_tidy['string_list_data']]\n",
    "df_tidy.head()"
   ]
  },
  {
   "cell_type": "code",
   "execution_count": 12,
   "id": "c733f02a-3bfc-4405-9eb8-0eff22638965",
   "metadata": {},
   "outputs": [],
   "source": [
    "from datetime import datetime\n",
    "df_tidy['Date of Like'] = [ datetime.fromtimestamp (i[0]['timestamp']) for i in df_tidy['string_list_data']]"
   ]
  },
  {
   "cell_type": "code",
   "execution_count": 13,
   "id": "2df7368e-790a-4d6e-a952-b46e3333b108",
   "metadata": {},
   "outputs": [
    {
     "data": {
      "text/html": [
       "<div>\n",
       "<style scoped>\n",
       "    .dataframe tbody tr th:only-of-type {\n",
       "        vertical-align: middle;\n",
       "    }\n",
       "\n",
       "    .dataframe tbody tr th {\n",
       "        vertical-align: top;\n",
       "    }\n",
       "\n",
       "    .dataframe thead th {\n",
       "        text-align: right;\n",
       "    }\n",
       "</style>\n",
       "<table border=\"1\" class=\"dataframe\">\n",
       "  <thead>\n",
       "    <tr style=\"text-align: right;\">\n",
       "      <th></th>\n",
       "      <th>title</th>\n",
       "      <th>string_list_data</th>\n",
       "      <th>Time of Like</th>\n",
       "      <th>Date of Like</th>\n",
       "      <th>href</th>\n",
       "    </tr>\n",
       "  </thead>\n",
       "  <tbody>\n",
       "    <tr>\n",
       "      <th>0</th>\n",
       "      <td>ksuphimu</td>\n",
       "      <td>[{'href': 'https://www.instagram.com/p/DNyQ6sQ...</td>\n",
       "      <td>1756144103</td>\n",
       "      <td>2025-08-25 13:48:23</td>\n",
       "      <td>https://www.instagram.com/p/DNyQ6sQ4hN-/</td>\n",
       "    </tr>\n",
       "    <tr>\n",
       "      <th>1</th>\n",
       "      <td>ellas.photo.diary</td>\n",
       "      <td>[{'href': 'https://www.instagram.com/p/DNwGO08...</td>\n",
       "      <td>1756070934</td>\n",
       "      <td>2025-08-24 17:28:54</td>\n",
       "      <td>https://www.instagram.com/p/DNwGO085L4w/</td>\n",
       "    </tr>\n",
       "    <tr>\n",
       "      <th>2</th>\n",
       "      <td>rach_czap</td>\n",
       "      <td>[{'href': 'https://www.instagram.com/p/DNtDzHY...</td>\n",
       "      <td>1755967367</td>\n",
       "      <td>2025-08-23 12:42:47</td>\n",
       "      <td>https://www.instagram.com/p/DNtDzHYWkjp/</td>\n",
       "    </tr>\n",
       "    <tr>\n",
       "      <th>3</th>\n",
       "      <td>maddietakesflixs</td>\n",
       "      <td>[{'href': 'https://www.instagram.com/p/DNs7qUq...</td>\n",
       "      <td>1755965810</td>\n",
       "      <td>2025-08-23 12:16:50</td>\n",
       "      <td>https://www.instagram.com/p/DNs7qUqWkDi/</td>\n",
       "    </tr>\n",
       "    <tr>\n",
       "      <th>4</th>\n",
       "      <td>ellabellesstyle</td>\n",
       "      <td>[{'href': 'https://www.instagram.com/p/DNqbDJc...</td>\n",
       "      <td>1755897259</td>\n",
       "      <td>2025-08-22 17:14:19</td>\n",
       "      <td>https://www.instagram.com/p/DNqbDJcRyQi/</td>\n",
       "    </tr>\n",
       "  </tbody>\n",
       "</table>\n",
       "</div>"
      ],
      "text/plain": [
       "               title                                   string_list_data  \\\n",
       "0           ksuphimu  [{'href': 'https://www.instagram.com/p/DNyQ6sQ...   \n",
       "1  ellas.photo.diary  [{'href': 'https://www.instagram.com/p/DNwGO08...   \n",
       "2          rach_czap  [{'href': 'https://www.instagram.com/p/DNtDzHY...   \n",
       "3   maddietakesflixs  [{'href': 'https://www.instagram.com/p/DNs7qUq...   \n",
       "4    ellabellesstyle  [{'href': 'https://www.instagram.com/p/DNqbDJc...   \n",
       "\n",
       "   Time of Like        Date of Like                                      href  \n",
       "0    1756144103 2025-08-25 13:48:23  https://www.instagram.com/p/DNyQ6sQ4hN-/  \n",
       "1    1756070934 2025-08-24 17:28:54  https://www.instagram.com/p/DNwGO085L4w/  \n",
       "2    1755967367 2025-08-23 12:42:47  https://www.instagram.com/p/DNtDzHYWkjp/  \n",
       "3    1755965810 2025-08-23 12:16:50  https://www.instagram.com/p/DNs7qUqWkDi/  \n",
       "4    1755897259 2025-08-22 17:14:19  https://www.instagram.com/p/DNqbDJcRyQi/  "
      ]
     },
     "execution_count": 13,
     "metadata": {},
     "output_type": "execute_result"
    }
   ],
   "source": [
    "df_tidy['href'] = [ i[0]['href'] for i in df_tidy['string_list_data']]\n",
    "df_tidy.head()"
   ]
  },
  {
   "cell_type": "code",
   "execution_count": 14,
   "id": "451d6199-dc90-4fc1-8a49-01ff134b637c",
   "metadata": {},
   "outputs": [
    {
     "data": {
      "text/html": [
       "<div>\n",
       "<style scoped>\n",
       "    .dataframe tbody tr th:only-of-type {\n",
       "        vertical-align: middle;\n",
       "    }\n",
       "\n",
       "    .dataframe tbody tr th {\n",
       "        vertical-align: top;\n",
       "    }\n",
       "\n",
       "    .dataframe thead th {\n",
       "        text-align: right;\n",
       "    }\n",
       "</style>\n",
       "<table border=\"1\" class=\"dataframe\">\n",
       "  <thead>\n",
       "    <tr style=\"text-align: right;\">\n",
       "      <th></th>\n",
       "      <th>title</th>\n",
       "      <th>Time of Like</th>\n",
       "      <th>Date of Like</th>\n",
       "      <th>href</th>\n",
       "    </tr>\n",
       "  </thead>\n",
       "  <tbody>\n",
       "    <tr>\n",
       "      <th>0</th>\n",
       "      <td>ksuphimu</td>\n",
       "      <td>1756144103</td>\n",
       "      <td>2025-08-25 13:48:23</td>\n",
       "      <td>https://www.instagram.com/p/DNyQ6sQ4hN-/</td>\n",
       "    </tr>\n",
       "    <tr>\n",
       "      <th>1</th>\n",
       "      <td>ellas.photo.diary</td>\n",
       "      <td>1756070934</td>\n",
       "      <td>2025-08-24 17:28:54</td>\n",
       "      <td>https://www.instagram.com/p/DNwGO085L4w/</td>\n",
       "    </tr>\n",
       "    <tr>\n",
       "      <th>2</th>\n",
       "      <td>rach_czap</td>\n",
       "      <td>1755967367</td>\n",
       "      <td>2025-08-23 12:42:47</td>\n",
       "      <td>https://www.instagram.com/p/DNtDzHYWkjp/</td>\n",
       "    </tr>\n",
       "    <tr>\n",
       "      <th>3</th>\n",
       "      <td>maddietakesflixs</td>\n",
       "      <td>1755965810</td>\n",
       "      <td>2025-08-23 12:16:50</td>\n",
       "      <td>https://www.instagram.com/p/DNs7qUqWkDi/</td>\n",
       "    </tr>\n",
       "    <tr>\n",
       "      <th>4</th>\n",
       "      <td>ellabellesstyle</td>\n",
       "      <td>1755897259</td>\n",
       "      <td>2025-08-22 17:14:19</td>\n",
       "      <td>https://www.instagram.com/p/DNqbDJcRyQi/</td>\n",
       "    </tr>\n",
       "    <tr>\n",
       "      <th>...</th>\n",
       "      <td>...</td>\n",
       "      <td>...</td>\n",
       "      <td>...</td>\n",
       "      <td>...</td>\n",
       "    </tr>\n",
       "    <tr>\n",
       "      <th>5416</th>\n",
       "      <td>haydensummerall</td>\n",
       "      <td>1496543582</td>\n",
       "      <td>2017-06-03 22:33:02</td>\n",
       "      <td>https://www.instagram.com/p/BU3Fp7ellms/</td>\n",
       "    </tr>\n",
       "    <tr>\n",
       "      <th>5417</th>\n",
       "      <td>livvpisano</td>\n",
       "      <td>1492813045</td>\n",
       "      <td>2017-04-21 18:17:25</td>\n",
       "      <td>https://www.instagram.com/p/BTKe92_hfoX/</td>\n",
       "    </tr>\n",
       "    <tr>\n",
       "      <th>5418</th>\n",
       "      <td>global.papi</td>\n",
       "      <td>1491594050</td>\n",
       "      <td>2017-04-07 15:40:50</td>\n",
       "      <td>https://www.instagram.com/p/BSUp2a1ghZ7/</td>\n",
       "    </tr>\n",
       "    <tr>\n",
       "      <th>5419</th>\n",
       "      <td>kendallvertes</td>\n",
       "      <td>1491577980</td>\n",
       "      <td>2017-04-07 11:13:00</td>\n",
       "      <td>https://www.instagram.com/p/BSlkRV1juuQ/</td>\n",
       "    </tr>\n",
       "    <tr>\n",
       "      <th>5420</th>\n",
       "      <td>karalynnjoyce</td>\n",
       "      <td>1451325652</td>\n",
       "      <td>2015-12-28 13:00:52</td>\n",
       "      <td>https://www.instagram.com/p/_m_ggtFyk1/</td>\n",
       "    </tr>\n",
       "  </tbody>\n",
       "</table>\n",
       "<p>5421 rows × 4 columns</p>\n",
       "</div>"
      ],
      "text/plain": [
       "                  title  Time of Like        Date of Like  \\\n",
       "0              ksuphimu    1756144103 2025-08-25 13:48:23   \n",
       "1     ellas.photo.diary    1756070934 2025-08-24 17:28:54   \n",
       "2             rach_czap    1755967367 2025-08-23 12:42:47   \n",
       "3      maddietakesflixs    1755965810 2025-08-23 12:16:50   \n",
       "4       ellabellesstyle    1755897259 2025-08-22 17:14:19   \n",
       "...                 ...           ...                 ...   \n",
       "5416    haydensummerall    1496543582 2017-06-03 22:33:02   \n",
       "5417         livvpisano    1492813045 2017-04-21 18:17:25   \n",
       "5418        global.papi    1491594050 2017-04-07 15:40:50   \n",
       "5419      kendallvertes    1491577980 2017-04-07 11:13:00   \n",
       "5420      karalynnjoyce    1451325652 2015-12-28 13:00:52   \n",
       "\n",
       "                                          href  \n",
       "0     https://www.instagram.com/p/DNyQ6sQ4hN-/  \n",
       "1     https://www.instagram.com/p/DNwGO085L4w/  \n",
       "2     https://www.instagram.com/p/DNtDzHYWkjp/  \n",
       "3     https://www.instagram.com/p/DNs7qUqWkDi/  \n",
       "4     https://www.instagram.com/p/DNqbDJcRyQi/  \n",
       "...                                        ...  \n",
       "5416  https://www.instagram.com/p/BU3Fp7ellms/  \n",
       "5417  https://www.instagram.com/p/BTKe92_hfoX/  \n",
       "5418  https://www.instagram.com/p/BSUp2a1ghZ7/  \n",
       "5419  https://www.instagram.com/p/BSlkRV1juuQ/  \n",
       "5420   https://www.instagram.com/p/_m_ggtFyk1/  \n",
       "\n",
       "[5421 rows x 4 columns]"
      ]
     },
     "execution_count": 14,
     "metadata": {},
     "output_type": "execute_result"
    }
   ],
   "source": [
    "df_tidy.drop(columns = ['string_list_data'])"
   ]
  },
  {
   "cell_type": "markdown",
   "id": "32275dc3-2da9-4392-b86e-88375c994afa",
   "metadata": {},
   "source": [
    "section 5"
   ]
  },
  {
   "cell_type": "code",
   "execution_count": 15,
   "id": "96c02082-8c1c-4bbd-a5fe-7cb9a241c422",
   "metadata": {},
   "outputs": [
    {
     "data": {
      "text/html": [
       "<div>\n",
       "<style scoped>\n",
       "    .dataframe tbody tr th:only-of-type {\n",
       "        vertical-align: middle;\n",
       "    }\n",
       "\n",
       "    .dataframe tbody tr th {\n",
       "        vertical-align: top;\n",
       "    }\n",
       "\n",
       "    .dataframe thead th {\n",
       "        text-align: right;\n",
       "    }\n",
       "</style>\n",
       "<table border=\"1\" class=\"dataframe\">\n",
       "  <thead>\n",
       "    <tr style=\"text-align: right;\">\n",
       "      <th></th>\n",
       "      <th>string_list_data</th>\n",
       "      <th>Time of Like</th>\n",
       "      <th>Date of Like</th>\n",
       "      <th>href</th>\n",
       "    </tr>\n",
       "    <tr>\n",
       "      <th>title</th>\n",
       "      <th></th>\n",
       "      <th></th>\n",
       "      <th></th>\n",
       "      <th></th>\n",
       "    </tr>\n",
       "  </thead>\n",
       "  <tbody>\n",
       "    <tr>\n",
       "      <th>alleycati</th>\n",
       "      <td>59</td>\n",
       "      <td>59</td>\n",
       "      <td>59</td>\n",
       "      <td>59</td>\n",
       "    </tr>\n",
       "    <tr>\n",
       "      <th>evameloche</th>\n",
       "      <td>58</td>\n",
       "      <td>58</td>\n",
       "      <td>58</td>\n",
       "      <td>58</td>\n",
       "    </tr>\n",
       "    <tr>\n",
       "      <th>riotgrrrlboy</th>\n",
       "      <td>53</td>\n",
       "      <td>53</td>\n",
       "      <td>53</td>\n",
       "      <td>53</td>\n",
       "    </tr>\n",
       "    <tr>\n",
       "      <th>archivegalaxy</th>\n",
       "      <td>48</td>\n",
       "      <td>48</td>\n",
       "      <td>48</td>\n",
       "      <td>48</td>\n",
       "    </tr>\n",
       "    <tr>\n",
       "      <th>hazebreyer_</th>\n",
       "      <td>47</td>\n",
       "      <td>47</td>\n",
       "      <td>47</td>\n",
       "      <td>47</td>\n",
       "    </tr>\n",
       "    <tr>\n",
       "      <th>...</th>\n",
       "      <td>...</td>\n",
       "      <td>...</td>\n",
       "      <td>...</td>\n",
       "      <td>...</td>\n",
       "    </tr>\n",
       "    <tr>\n",
       "      <th>hallowsteen</th>\n",
       "      <td>1</td>\n",
       "      <td>1</td>\n",
       "      <td>1</td>\n",
       "      <td>1</td>\n",
       "    </tr>\n",
       "    <tr>\n",
       "      <th>hamddol</th>\n",
       "      <td>1</td>\n",
       "      <td>1</td>\n",
       "      <td>1</td>\n",
       "      <td>1</td>\n",
       "    </tr>\n",
       "    <tr>\n",
       "      <th>hammymemes_</th>\n",
       "      <td>1</td>\n",
       "      <td>1</td>\n",
       "      <td>1</td>\n",
       "      <td>1</td>\n",
       "    </tr>\n",
       "    <tr>\n",
       "      <th>hamzahthefantastic</th>\n",
       "      <td>1</td>\n",
       "      <td>1</td>\n",
       "      <td>1</td>\n",
       "      <td>1</td>\n",
       "    </tr>\n",
       "    <tr>\n",
       "      <th>zynntopia</th>\n",
       "      <td>1</td>\n",
       "      <td>1</td>\n",
       "      <td>1</td>\n",
       "      <td>1</td>\n",
       "    </tr>\n",
       "  </tbody>\n",
       "</table>\n",
       "<p>2694 rows × 4 columns</p>\n",
       "</div>"
      ],
      "text/plain": [
       "                    string_list_data  Time of Like  Date of Like  href\n",
       "title                                                                 \n",
       "alleycati                         59            59            59    59\n",
       "evameloche                        58            58            58    58\n",
       "riotgrrrlboy                      53            53            53    53\n",
       "archivegalaxy                     48            48            48    48\n",
       "hazebreyer_                       47            47            47    47\n",
       "...                              ...           ...           ...   ...\n",
       "hallowsteen                        1             1             1     1\n",
       "hamddol                            1             1             1     1\n",
       "hammymemes_                        1             1             1     1\n",
       "hamzahthefantastic                 1             1             1     1\n",
       "zynntopia                          1             1             1     1\n",
       "\n",
       "[2694 rows x 4 columns]"
      ]
     },
     "execution_count": 15,
     "metadata": {},
     "output_type": "execute_result"
    }
   ],
   "source": [
    "df_tidy.groupby('title').count().sort_values('Time of Like', ascending = False)"
   ]
  },
  {
   "cell_type": "markdown",
   "id": "5749daa9-53b1-4c75-904f-54377dade1d1",
   "metadata": {},
   "source": [
    "## section 6"
   ]
  },
  {
   "cell_type": "markdown",
   "id": "f6f0de2e-cf3e-4c83-b5ea-07d1d3ce117c",
   "metadata": {},
   "source": [
    "#### A hypothesis using my personal instagram is to see how often I post. This would include the dates/times i've posted over the last year(s) i've had an active post on my account at the time I downloaded my data. How often I post is a good strategy to see when I should or will possibly post next to keep my profile updated and active looking. This is used by celebtrities sometimes too; keeping their profile updated but not leaking personal life activites."
   ]
  },
  {
   "cell_type": "markdown",
   "id": "abf239b1-fd42-443b-b8bf-26769acfd103",
   "metadata": {},
   "source": [
    "## section 7"
   ]
  },
  {
   "cell_type": "markdown",
   "id": "9b0b277d-7d97-486d-a7be-d5367b172bb9",
   "metadata": {},
   "source": [
    "#### posts_1.json allows me to see the data of my posts that are currently on my account. it gives the title of the post, the timestamp and the media link for it."
   ]
  },
  {
   "cell_type": "markdown",
   "id": "e1be9502-2514-4746-b5b8-e53566885efe",
   "metadata": {},
   "source": [
    "## section 8"
   ]
  },
  {
   "cell_type": "code",
   "execution_count": 16,
   "id": "b3a6f24c-1e53-4d03-b4d3-2ac596996497",
   "metadata": {},
   "outputs": [],
   "source": [
    "path = r\"/Users/ceciliapisano/Downloads/instagram-cece.pisano-2025-08-25-UMGrkIl3/your_instagram_activity/media/posts_1.json\"\n",
    "with open(path) as l:\n",
    "    dict = json.load(l)"
   ]
  },
  {
   "cell_type": "markdown",
   "id": "27f41757-f547-490f-8095-9b862842f54f",
   "metadata": {},
   "source": [
    "## section 9"
   ]
  },
  {
   "cell_type": "markdown",
   "id": "3fe7fe6b-62c0-4896-8f7c-db6aafae95dc",
   "metadata": {},
   "source": [
    "convert the data to tidy dataframe"
   ]
  },
  {
   "cell_type": "code",
   "execution_count": 17,
   "id": "f0c7433d-f3f5-4f94-b723-d3b450b28b8b",
   "metadata": {},
   "outputs": [
    {
     "data": {
      "text/html": [
       "<div>\n",
       "<style scoped>\n",
       "    .dataframe tbody tr th:only-of-type {\n",
       "        vertical-align: middle;\n",
       "    }\n",
       "\n",
       "    .dataframe tbody tr th {\n",
       "        vertical-align: top;\n",
       "    }\n",
       "\n",
       "    .dataframe thead th {\n",
       "        text-align: right;\n",
       "    }\n",
       "</style>\n",
       "<table border=\"1\" class=\"dataframe\">\n",
       "  <thead>\n",
       "    <tr style=\"text-align: right;\">\n",
       "      <th></th>\n",
       "      <th>media</th>\n",
       "      <th>title</th>\n",
       "      <th>creation_timestamp</th>\n",
       "    </tr>\n",
       "  </thead>\n",
       "  <tbody>\n",
       "    <tr>\n",
       "      <th>0</th>\n",
       "      <td>[{'uri': 'media/posts/202504/491442498_1845831...</td>\n",
       "      <td>weekend pics</td>\n",
       "      <td>1745772412</td>\n",
       "    </tr>\n",
       "    <tr>\n",
       "      <th>1</th>\n",
       "      <td>[{'uri': 'media/posts/202410/463069566_3726039...</td>\n",
       "      <td>something new</td>\n",
       "      <td>1728836463</td>\n",
       "    </tr>\n",
       "  </tbody>\n",
       "</table>\n",
       "</div>"
      ],
      "text/plain": [
       "                                               media          title  \\\n",
       "0  [{'uri': 'media/posts/202504/491442498_1845831...   weekend pics   \n",
       "1  [{'uri': 'media/posts/202410/463069566_3726039...  something new   \n",
       "\n",
       "   creation_timestamp  \n",
       "0          1745772412  \n",
       "1          1728836463  "
      ]
     },
     "execution_count": 17,
     "metadata": {},
     "output_type": "execute_result"
    }
   ],
   "source": [
    "df = pd.DataFrame(dict)\n",
    "df.head()"
   ]
  },
  {
   "cell_type": "markdown",
   "id": "87a815c5-5ddd-4a8f-841a-74a1ac4bd3dc",
   "metadata": {},
   "source": [
    "## section 10"
   ]
  },
  {
   "cell_type": "markdown",
   "id": "5bb71486-983d-4c72-ac17-ed79ae046d1c",
   "metadata": {},
   "source": [
    "DataFrame meets does not the tidy principles because the type is not list its a dict type and I don't know how to change the type to be able to be shown. As the data goes; I don't have many posts on my account but still the timestamp will show when I was active enough to post. While the timestamp is about to be changed (in some way I don't know due to the type), it will create the want of what date I had posted the pictures at and what time exactly on that date."
   ]
  },
  {
   "cell_type": "code",
   "execution_count": null,
   "id": "fb6bb52b-8be5-4b4d-850f-55b0df8f0918",
   "metadata": {},
   "outputs": [],
   "source": []
  }
 ],
 "metadata": {
  "kernelspec": {
   "display_name": "Python 3 (ipykernel)",
   "language": "python",
   "name": "python3"
  },
  "language_info": {
   "codemirror_mode": {
    "name": "ipython",
    "version": 3
   },
   "file_extension": ".py",
   "mimetype": "text/x-python",
   "name": "python",
   "nbconvert_exporter": "python",
   "pygments_lexer": "ipython3",
   "version": "3.12.11"
  }
 },
 "nbformat": 4,
 "nbformat_minor": 5
}
